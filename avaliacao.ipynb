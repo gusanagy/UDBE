{
 "cells": [
  {
   "cell_type": "markdown",
   "metadata": {},
   "source": [
    "# Controlable Light Enhencement for Underater Image Enhancement with difusion model"
   ]
  },
  {
   "cell_type": "markdown",
   "metadata": {},
   "source": [
    "### Download dataset"
   ]
  },
  {
   "cell_type": "code",
   "execution_count": null,
   "metadata": {},
   "outputs": [],
   "source": [
    "pip install gdown"
   ]
  },
  {
   "cell_type": "code",
   "execution_count": 1,
   "metadata": {},
   "outputs": [
    {
     "name": "stderr",
     "output_type": "stream",
     "text": [
      "Downloading...\n",
      "From (original): https://drive.google.com/uc?id=1SCwOosZam8bzoZdVSwW60l-bD7c65pv0\n",
      "From (redirected): https://drive.google.com/uc?id=1SCwOosZam8bzoZdVSwW60l-bD7c65pv0&confirm=t&uuid=7a1705fb-c15d-4b96-a058-af475d87f4db\n",
      "To: /home/pdi/Documents/UDBE/dataset/dataset.zip\n",
      "100%|██████████| 914M/914M [00:20<00:00, 44.0MB/s] \n"
     ]
    },
    {
     "name": "stdout",
     "output_type": "stream",
     "text": [
      "Dataset baixado e descompactado com sucesso!\n"
     ]
    }
   ],
   "source": [
    "import os\n",
    "import gdown\n",
    "\n",
    "# Primeiro, instalar o gdown se ainda não estiver instalado\n",
    "# !pip install gdown\n",
    "\n",
    "# URL do Google Drive\n",
    "url = \"https://drive.google.com/file/d/1SCwOosZam8bzoZdVSwW60l-bD7c65pv0/view\"\n",
    "\n",
    "# Criar diretório para o dataset se não existir\n",
    "os.makedirs(\"dataset\", exist_ok=True)\n",
    "\n",
    "# Baixar o arquivo\n",
    "output = \"dataset/dataset.zip\"\n",
    "gdown.download(url=url, output=output, fuzzy=True)\n",
    "\n",
    "# Descompactar o arquivo\n",
    "import zipfile\n",
    "with zipfile.ZipFile(output, 'r') as zip_ref:\n",
    "    zip_ref.extractall(\"dataset\")\n",
    "\n",
    "print(\"Dataset baixado e descompactado com sucesso!\")"
   ]
  },
  {
   "cell_type": "markdown",
   "metadata": {},
   "source": [
    "### Download ckpt"
   ]
  },
  {
   "cell_type": "code",
   "execution_count": 9,
   "metadata": {},
   "outputs": [
    {
     "name": "stdout",
     "output_type": "stream",
     "text": [
      "Downloading from https://huggingface.co/Gusanagy/UDBE-Unsupervised-Diffusion-based-Brightness-Enhancement-in-Underwater-Images/resolve/main/UDBE.zip...\n",
      "Download complete.\n",
      "Extracting files...\n",
      "Extraction complete.\n",
      "Temporary zip file removed.\n",
      "Weights downloaded and ready.\n"
     ]
    }
   ],
   "source": [
    "# Import necessary libraries\n",
    "import os\n",
    "import requests\n",
    "import zipfile\n",
    "\n",
    "# Function to download and unzip the file\n",
    "def download_and_unzip(url, extract_to):\n",
    "    # Define the local zip file path\n",
    "    zip_path = os.path.join(extract_to, 'output.zip')\n",
    "    \n",
    "    # Download the file\n",
    "    print(f\"Downloading from {url}...\")\n",
    "    response = requests.get(url, stream=True)\n",
    "    if response.status_code == 200:\n",
    "        with open(zip_path, 'wb') as file:\n",
    "            for chunk in response.iter_content(chunk_size=1024):\n",
    "                if chunk:\n",
    "                    file.write(chunk)\n",
    "        print(\"Download complete.\")\n",
    "    else:\n",
    "        print(f\"Failed to download. HTTP Status Code: {response.status_code}\")\n",
    "        return\n",
    "    \n",
    "    # Unzip the file\n",
    "    print(\"Extracting files...\")\n",
    "    with zipfile.ZipFile(zip_path, 'r') as zip_ref:\n",
    "        zip_ref.extractall(extract_to)\n",
    "    print(\"Extraction complete.\")\n",
    "    \n",
    "    # Remove the zip file\n",
    "    os.remove(zip_path)\n",
    "    print(\"Temporary zip file removed.\")\n",
    "\n",
    "# URL of the weights file\n",
    "weights_url = \"https://huggingface.co/Gusanagy/UDBE-Unsupervised-Diffusion-based-Brightness-Enhancement-in-Underwater-Images/resolve/main/UDBE.zip\"\n",
    "\n",
    "# Directory to save and extract the weights\n",
    "weights_dir = 'output'\n",
    "os.makedirs(weights_dir, exist_ok=True)\n",
    "\n",
    "# Download and extract the weights\n",
    "download_and_unzip(weights_url, weights_dir)\n",
    "\n",
    "print(\"Weights downloaded and ready.\")\n"
   ]
  },
  {
   "cell_type": "markdown",
   "metadata": {},
   "source": [
    "### Inferência"
   ]
  },
  {
   "cell_type": "markdown",
   "metadata": {},
   "source": [
    "### Teste dataset RUIE"
   ]
  },
  {
   "cell_type": "code",
   "execution_count": null,
   "metadata": {},
   "outputs": [],
   "source": [
    "!python main.py --dataset \"RUIE\" --state \"test\" --pretrained_path \"output/ckpt/RUIE/ckpt_1000_.pt\" --wandb False \n"
   ]
  },
  {
   "cell_type": "markdown",
   "metadata": {},
   "source": [
    "### Teste dataset UIEB"
   ]
  },
  {
   "cell_type": "code",
   "execution_count": 1,
   "metadata": {},
   "outputs": [
    {
     "name": "stdout",
     "output_type": "stream",
     "text": [
      "Namespace(dataset='UIEB', model='standart', dataset_path='./dataset/UDWdata/', state='val', pretrained_path='output/ckpt/UIEB/ckpt_1000_.pt', inference_image='data/UDWdata/UIEB/val/205_img_.png', output_path='./output/', wandb=True, wandb_name='GLDiffusion', epoch=1000, DDP=False, batch_size=16, T=1000, channel=128, channel_mult=[1, 2, 3, 4], attn=[2], num_res_blocks=2, dropout=0.15, lr=5e-05, multiplier=2.0, beta_1=0.0001, beta_T=0.02, img_size=32, grad_clip=1.0, device='cuda', device_list=[0, 1], ddim=True, unconditional_guidance_scale=1, ddim_step=100)\n",
      "1000\n",
      "Processando imagens: 100%|████████████████| 89/89 [00:00<00:00, 2785769.07img/s]\n"
     ]
    }
   ],
   "source": [
    "!python main.py --dataset \"UIEB\" --state \"val\" --pretrained_path \"output/ckpt/UIEB/ckpt_1000_.pt\" --wandb False "
   ]
  },
  {
   "cell_type": "markdown",
   "metadata": {},
   "source": [
    "### Teste dataset SUIM"
   ]
  },
  {
   "cell_type": "code",
   "execution_count": 1,
   "metadata": {},
   "outputs": [
    {
     "name": "stdout",
     "output_type": "stream",
     "text": [
      "Namespace(dataset='SUIM', model='standart', dataset_path='./dataset/UDWdata/', state='val', pretrained_path='output/ckpt/SUIM/ckpt_1000_.pt', inference_image='data/UDWdata/UIEB/val/205_img_.png', output_path='./output/', wandb=True, wandb_name='GLDiffusion', epoch=1000, DDP=False, batch_size=16, T=1000, channel=128, channel_mult=[1, 2, 3, 4], attn=[2], num_res_blocks=2, dropout=0.15, lr=5e-05, multiplier=2.0, beta_1=0.0001, beta_T=0.02, img_size=32, grad_clip=1.0, device='cuda', device_list=[0, 1], ddim=True, unconditional_guidance_scale=1, ddim_step=100)\n",
      "1000\n",
      "INICIANDO TEST\n",
      "Tamanho do dataset : 110\n",
      "Total test-training examples: 110\n",
      "model load weight done.\n",
      "savedir: ./output/result/SUIM/epoch/1000/, ckpt_path: output/ckpt/SUIM/ckpt_1000_.pt\n",
      "Testing model:   0%|                                    | 0/110 [00:00<?, ?it/s][ WARN:0@8.597] global loadsave.cpp:848 imwrite_ Unsupported depth image for selected encoder is fallbacked to CV_8U.\n",
      "Testing model: 100%|██████████████████████████| 110/110 [11:43<00:00,  6.40s/it]\n",
      "Calculating advanced metrics...\n",
      "Processing metrics: 100%|█████████████████████| 110/110 [00:04<00:00, 22.14it/s]\n",
      "Métricas finais:\n",
      "  PSNR: 24.0489\n",
      "  SSIM: 0.8507\n",
      "  UIQM: 0.8514\n",
      "  UCIQE: 0.5761\n",
      "Traceback (most recent call last):\n",
      "  File \u001b[35m\"/home/pdi/Documents/UDBE/main.py\"\u001b[0m, line \u001b[35m72\u001b[0m, in \u001b[35m<module>\u001b[0m\n",
      "    \u001b[31mTest\u001b[0m\u001b[1;31m(config, config.epoch)\u001b[0m\n",
      "    \u001b[31m~~~~\u001b[0m\u001b[1;31m^^^^^^^^^^^^^^^^^^^^^^\u001b[0m\n",
      "  File \u001b[35m\"/home/pdi/Documents/UDBE/src/train.py\"\u001b[0m, line \u001b[35m513\u001b[0m, in \u001b[35mTest\u001b[0m\n",
      "                 \"Average SSIM\": avg_ssim,\n",
      "    ...<6 lines>...\n",
      "    \n",
      "  File \u001b[35m\"/home/pdi/anaconda3/envs/CLED/lib/python3.13/site-packages/wandb/sdk/lib/preinit.py\"\u001b[0m, line \u001b[35m36\u001b[0m, in \u001b[35mpreinit_wrapper\u001b[0m\n",
      "    raise wandb.Error(f\"You must call wandb.init() before {name}()\")\n",
      "\u001b[1;35mwandb.errors.errors.Error\u001b[0m: \u001b[35mYou must call wandb.init() before wandb.log()\u001b[0m\n"
     ]
    }
   ],
   "source": [
    "!python main.py --dataset \"SUIM\" --state \"val\" --pretrained_path \"output/ckpt/SUIM/ckpt_1000_.pt\" --wandb False "
   ]
  }
 ],
 "metadata": {
  "kernelspec": {
   "display_name": "CLED",
   "language": "python",
   "name": "python3"
  },
  "language_info": {
   "codemirror_mode": {
    "name": "ipython",
    "version": 3
   },
   "file_extension": ".py",
   "mimetype": "text/x-python",
   "name": "python",
   "nbconvert_exporter": "python",
   "pygments_lexer": "ipython3",
   "version": "3.13.2"
  }
 },
 "nbformat": 4,
 "nbformat_minor": 2
}
